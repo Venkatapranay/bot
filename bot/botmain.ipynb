{
 "cells": [
  {
   "cell_type": "code",
   "execution_count": 1,
   "id": "687822a8",
   "metadata": {},
   "outputs": [],
   "source": [
    "import re\n",
    "import long_responses as long"
   ]
  },
  {
   "cell_type": "code",
   "execution_count": null,
   "id": "b8879ea3",
   "metadata": {},
   "outputs": [
    {
     "name": "stdout",
     "output_type": "stream",
     "text": [
      "you: hello\n",
      "bot : Hello!\n",
      "you: what do you eat\n",
      "bot : i don't eat ,i am a bot!\n",
      "you: grelggfe\n",
      "bot : what does that mean?\n"
     ]
    }
   ],
   "source": [
    "def message_probability(user_message,recognised_words,single_response=False,required_words=[]):\n",
    "    message_certainity=0\n",
    "    has_required_words=True\n",
    "    #counts how many msgs are present in each predefined msg\n",
    "    for word in user_message:\n",
    "        if word in recognised_words:\n",
    "            message_certainity+=1\n",
    "    #calculate the % of recognised words in user msg\n",
    "    percentage=float(message_certainity)/float(len(recognised_words))\n",
    "    #checks that required words in the string\n",
    "    for word in required_words:\n",
    "        if word not in user_message:\n",
    "            has_required_words=False\n",
    "            break\n",
    "            \n",
    "    if has_required_words or single_response:\n",
    "        return int(percentage*100)\n",
    "    else:\n",
    "        return 0\n",
    "def check_all_msgs(message):\n",
    "    highest_prob_list={}\n",
    "    \n",
    "    def response(bot_response,list_of_words,single_response=False,required_words=[]):\n",
    "        nonlocal highest_prob_list\n",
    "        highest_prob_list[bot_response]=message_probability(message,list_of_words,single_response,required_words)\n",
    "        \n",
    "        \n",
    "    #response.................................................................\n",
    "    response('Hello!',['hello','hi','hey'],single_response=True)\n",
    "    response('i am fine,and you?',['how','are','you','doing'],required_words=['how','you'])\n",
    "    response('thank you',['i','love','coding'],required_words=['love','coding'])\n",
    "    \n",
    "\n",
    "    \n",
    "    response(long.r_eating,['what','you','eat'],required_words=['you','eat'])\n",
    "    best_match=max(highest_prob_list,key=highest_prob_list.get)\n",
    "   # print(highest_prob_list)\n",
    "   # return best_match\n",
    "    return long.unknown() if highest_prob_list[best_match]<1 else best_match\n",
    "     \n",
    "def get_response(user_input):\n",
    "    split_message=re.split(r'\\s+|[,;?!.-]\\s*',user_input.lower())\n",
    "    response=check_all_msgs(split_message)\n",
    "    return response\n",
    "# testing the response system\n",
    "while True:\n",
    "    print(\"bot : \"+get_response(input('you: ')))"
   ]
  },
  {
   "cell_type": "code",
   "execution_count": null,
   "id": "b8a58bc8",
   "metadata": {},
   "outputs": [],
   "source": []
  },
  {
   "cell_type": "code",
   "execution_count": null,
   "id": "5ffbe3de",
   "metadata": {},
   "outputs": [],
   "source": []
  },
  {
   "cell_type": "code",
   "execution_count": null,
   "id": "eccd4cdd",
   "metadata": {},
   "outputs": [],
   "source": []
  }
 ],
 "metadata": {
  "kernelspec": {
   "display_name": "Python 3 (ipykernel)",
   "language": "python",
   "name": "python3"
  },
  "language_info": {
   "codemirror_mode": {
    "name": "ipython",
    "version": 3
   },
   "file_extension": ".py",
   "mimetype": "text/x-python",
   "name": "python",
   "nbconvert_exporter": "python",
   "pygments_lexer": "ipython3",
   "version": "3.9.7"
  }
 },
 "nbformat": 4,
 "nbformat_minor": 5
}
